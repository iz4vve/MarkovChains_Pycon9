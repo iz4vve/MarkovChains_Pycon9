{
 "cells": [
  {
   "cell_type": "markdown",
   "metadata": {
    "slideshow": {
     "slide_type": "slide"
    }
   },
   "source": [
    "# Predicting future states with Markov Chains\n",
    "We have a set of sequences followed by users in the system. We need to implement a Markov Chain representation that we can use to obtain predictions on future states. Also we want this representation to be of order $>1$.  \n",
    "Let's start by loading the data and by having a look at it."
   ]
  },
  {
   "cell_type": "code",
   "execution_count": null,
   "metadata": {
    "slideshow": {
     "slide_type": "slide"
    }
   },
   "outputs": [],
   "source": [
    "# load all dependencies\n",
    "from support import *\n",
    "# load the data\n",
    "data = pd.read_csv(\"../data/paths_final_cass.csv\", sep=\";\")[[\"element\", \"exit_codes\", \"type\"]]\n",
    "\n",
    "# let's peek into the dataframe...\n",
    "data.head()"
   ]
  },
  {
   "cell_type": "markdown",
   "metadata": {
    "slideshow": {
     "slide_type": "slide"
    }
   },
   "source": [
    "### Data format\n",
    "The data contain all sequence of items users touched in their session (`element`) and the exit status for each item (`exit_code`). `type` represents the goodness/badness of the sequence.  \n",
    "We now need to determine the set of all possible states that we can use to build a transition matrix based on the sequences in our dataset.  \n",
    "Since we are not sure all labels exist (there may be gaps in the labels), we will redefine them and normalize the counts.  \n",
    "\n",
    "Also: we want to calculate a second order Markov Chain of the dataset so that we can correlate a pair (Element, Exit code) to the next pair (Element, Exit code)."
   ]
  },
  {
   "cell_type": "code",
   "execution_count": null,
   "metadata": {
    "slideshow": {
     "slide_type": "skip"
    }
   },
   "outputs": [],
   "source": [
    "# get ALL the elements (pipe separated)\n",
    "all_codes = set(\n",
    "    itertools.chain(\n",
    "        *data['element'].apply(lambda x: str(x).split(\"|\")).values\n",
    "    )\n",
    ")\n",
    "print(f\"{len(all_codes)} unique elements found in dataset\")\n",
    "\n",
    "# build a label map\n",
    "# this generates a new hash map with the range of the unique labels as key\n",
    "codes_map = {\n",
    "    item: n for n, item in enumerate(\n",
    "        sorted(map(int, all_codes))\n",
    "    )\n",
    "}\n",
    "# get the new labels and joins them in a string like at the beginning\n",
    "data['new_elements'] = data['element'].apply(\n",
    "    lambda x: \"|\".join(\n",
    "        str(codes_map.get(int(i), 'N/A')) for i in str(x).split(\"|\")\n",
    "    )\n",
    ")\n",
    "\n",
    "# same thing on exit states\n",
    "all_codes = set(\n",
    "    itertools.chain(*data['exit_codes'].apply(lambda x: str(x).split(\"|\")).values)\n",
    ")\n",
    "print(f\"{len(all_codes)} unique exit_codes found in dataset\")\n",
    "_codes_map = {\n",
    "    item: n for n, item in enumerate(\n",
    "        sorted(map(int, all_codes)), start=len(codes_map)\n",
    "    )\n",
    "}\n",
    "data['new_exits'] = data['exit_codes'].apply(\n",
    "    lambda x: \"|\".join(\n",
    "        str(_codes_map.get(int(i), 'N/A')) for i in str(x).split(\"|\")\n",
    "    )\n",
    ")\n",
    "\n",
    "print(f\"\\n{max(_codes_map.values()) + 1} possible states single states\")"
   ]
  },
  {
   "cell_type": "code",
   "execution_count": null,
   "metadata": {
    "slideshow": {
     "slide_type": "slide"
    }
   },
   "outputs": [],
   "source": [
    "# we don't need these anymore...\n",
    "data.drop([\"element\", \"exit_codes\"], axis=1, inplace=True)\n",
    "data.head()"
   ]
  },
  {
   "cell_type": "markdown",
   "metadata": {
    "slideshow": {
     "slide_type": "slide"
    }
   },
   "source": [
    "Let's now associate each element to its exit code in the sequence:"
   ]
  },
  {
   "cell_type": "code",
   "execution_count": null,
   "metadata": {
    "collapsed": true,
    "slideshow": {
     "slide_type": "fragment"
    }
   },
   "outputs": [],
   "source": [
    "# this mixes and matches items and exit codes:\n",
    "# a|b|c $ 1|2|3 => a|1|b|2|c|3\n",
    "pair_sequences = make_sequences(data)"
   ]
  },
  {
   "cell_type": "markdown",
   "metadata": {
    "slideshow": {
     "slide_type": "slide"
    }
   },
   "source": [
    "## Implementation\n",
    "How can we implement the representation of these states into a Markov Chain?  \n",
    "\n",
    "First of all, we want an extensible object (it doesn't strictly NEED to be, but this will be helpful in keeping things tidy).\n",
    "\n",
    "**NOTE**: I'm going to show the method implementation separately for clarity: they should ALL be in th class for it to work properly!!\n",
    "\n",
    "**NOTE2**: I'm omitting a lot of stuff from the code below and leaving a few imprecisions (error handling, logging, docstrings, ...) for clarity... I *DO NOT* advise you use this code directly: I'm pretty sure you'd run into some problems...\n",
    "\n",
    "### Let's implement the class:\n",
    "\n",
    "#### Initialisation\n",
    "Let's start simple...\n",
    "```python\n",
    "class MarkovChain(object):\n",
    "    pass\n",
    "```\n",
    "\n",
    "ok... now we want to pre-allocate the transition matrix. To do it, we need to know the total number of states and the order of the MC.  \n",
    "So we need to set:\n",
    "1. order and\n",
    "2. total number of states\n",
    "\n",
    "```python\n",
    "    def __init__(self, n_states, order=1):\n",
    "        self.number_of_states = n_states\n",
    "        self.order = order\n",
    "        \n",
    "        # calculate all possible state combinations\n",
    "        self.possible_states = {\n",
    "            j: i for i, j in\n",
    "            enumerate(itertools.product(range(n_states), repeat=order))\n",
    "        }\n",
    "\n",
    "        # allocate transition matrix\n",
    "        self.transition_matrix = sparse.dok_matrix((\n",
    "            (len(self.possible_states), len(self.possible_states))\n",
    "        ), dtype=np.float64)\n",
    "```\n",
    "\n",
    "Good. At this point we have the initialisations and the objects we need to start working. We'll have to be careful when working with a lot of states or a very high order as the size of the representation of the transition matrix will grow as $O(n\\_states^2)$. This is actually only a big problem if we want to have dense representations... which we don't...\n",
    "\n",
    "#### Transition matrix update\n",
    "\n",
    "We now have a basic implementation of and initialisation of the `transition_matrix` and `possible_states`. The transition matrizx has all transitions initialised as zeros, we now need a way of updating them when we see a transition happen:\n",
    "\n",
    "```python\n",
    "    def update_transition_matrix(self, states_sequence):\n",
    "\n",
    "        visited_states = [\n",
    "            states_sequence[i: i + self.order]\n",
    "            for i in range(len(states_sequence) - self.order + 1)\n",
    "        ]\n",
    "\n",
    "        for state_index, i in enumerate(visited_states):\n",
    "            self.transition_matrix[\n",
    "                self.possible_states[tuple(i)],\n",
    "                self.possible_states[tuple(visited_states[\n",
    "                    state_index + self.order\n",
    "                ])]\n",
    "            ] += 1\n",
    "```\n",
    "This function updates the transition matrix for a single sequence of states. There is something missing though...\n"
   ]
  },
  {
   "cell_type": "markdown",
   "metadata": {},
   "source": [
    "### Normalisation\n",
    "\n",
    "The transition matrix is a matrix of probabilities, therefore **each row MUST sum to 1**.  \n",
    "\n",
    "We need to implement this normalisation:\n",
    "\n",
    "```python\n",
    "    def normalise_transitions(self):\n",
    "        self.transition_matrix = preprocessing.normalize(\n",
    "            self.transition_matrix, norm=\"l1\"\n",
    "        )\n",
    "```\n",
    "ok, now we can add this bit to `update_transition_matrix`. Also, we should take into account the fact that we don't always want to normalise the counts (e.g. when updating the matrix multiple times):\n",
    "\n",
    "```python\n",
    "    def update_transition_matrix(self, states_sequence, normalise=True):\n",
    "\n",
    "        [...]\n",
    "        \n",
    "        if normalise:\n",
    "            self.normalise_transitions()\n",
    "            \n",
    "```\n",
    "There.\n"
   ]
  },
  {
   "cell_type": "markdown",
   "metadata": {},
   "source": [
    "### Fitting sequences of sequences\n",
    "\n",
    "We now have most of the bits and pieces together: we can add a utility function to train the model on sequences of sequences (we don't want to explicitly call `update_transition_matrix`, do we? ;) ).\n",
    "\n",
    "```python\n",
    "\n",
    "    def fit(self, state_sequences):\n",
    "        for index, sequence in enumerate(state_sequences):\n",
    "            self.update_transition_matrix(sequence, normalize=False)\n",
    "        self.normalize_transitions()\n",
    "```\n",
    "\n",
    "ok... that was easy..."
   ]
  },
  {
   "cell_type": "markdown",
   "metadata": {},
   "source": [
    "## PREDICTING THE FUTURE!!\n",
    "\n",
    "#### A bit of maths\n",
    "Now we reached the through purpose of this notebook: we want to know what will happen in the future!  \n",
    "When using Markov Chains, the next state can be inferred by means of linear algebra:\n",
    "$$S_{i+1} = S_i^T \\times T$$\n",
    "where $S_i^T$ is the transposed state vector of state $i$ and $T$ is the transition matrix.  \n",
    "\n",
    "In the same way we can calculate the probability vector after any number of steps:\n",
    "$$S_{i+N} = S_{i+N-1}^T\\times T = \\left(\\left(\\left(S_{i+N-2}^T \\times T\\right)^T \\times T\\right)^T \\times T\\right) = \\,...$$  \n",
    "\n",
    "The pattern emerging from the equation is quite clear and can be taken all the way down to $S_i$:\n",
    "\n",
    "$$S_{i+N} = S_i^T \\times T^N$$\n",
    "\n",
    "ok... now THAT'S more like it!\n",
    "\n",
    "#### Implementation\n",
    "\n",
    "We can implement this easily: we just need to take the matrix power of T to the power of the number of steps we want. For a single step, we'll be using the raw transition matrix:\n",
    "```python\n",
    "\n",
    "    def predict_state(self, current_state, num_steps=1):\n",
    "        _next_state = sparse.csr_matrix(current_state).dot(\n",
    "            np.power(self.transition_matrix, num_steps)\n",
    "        )\n",
    "\n",
    "        return _next_state\n",
    "```\n",
    "\n",
    "\n",
    "And that's it for our basic implementation!! We're good to go!"
   ]
  },
  {
   "cell_type": "markdown",
   "metadata": {},
   "source": [
    "<img src=\"../presentation/imgs/thumbs.jpg\">\n",
    "<br>\n",
    "<caption><center>**Good to go!**</center></caption>\n"
   ]
  },
  {
   "cell_type": "markdown",
   "metadata": {},
   "source": [
    "## Let's see it in action now!!\n",
    "Ok fine, we've seen what the implementation looks like, let's see what it can do now!  \n",
    "As mentioned, the implementation seeen above is not complete and it does not implement any form of error hanlding... Luckily for us, a more complete implementation exists!"
   ]
  },
  {
   "cell_type": "code",
   "execution_count": null,
   "metadata": {
    "collapsed": true,
    "slideshow": {
     "slide_type": "fragment"
    }
   },
   "outputs": [],
   "source": [
    "# install the High Order Markov chains module\n",
    "# ! pip install --upgrade HOMarkov"
   ]
  },
  {
   "cell_type": "code",
   "execution_count": null,
   "metadata": {
    "collapsed": true,
    "slideshow": {
     "slide_type": "slide"
    }
   },
   "outputs": [],
   "source": [
    "# from HOMarkov import markov\n",
    "import markov\n",
    "number_of_states = max(_codes_map.values()) + 1 # zero based :)\n",
    "mc = markov.MarkovChain(number_of_states, order=2)"
   ]
  },
  {
   "cell_type": "code",
   "execution_count": null,
   "metadata": {
    "slideshow": {
     "slide_type": "fragment"
    }
   },
   "outputs": [],
   "source": [
    "%%time\n",
    "mc.fit(list(pair_sequences))"
   ]
  },
  {
   "cell_type": "code",
   "execution_count": null,
   "metadata": {
    "slideshow": {
     "slide_type": "fragment"
    }
   },
   "outputs": [],
   "source": [
    "print(f\"Number of non-zero transitions: {mc.transition_matrix.count_nonzero()}\")\n",
    "print(f\"Number of total transitions: {mc.transition_matrix.shape[0]**2}\")"
   ]
  },
  {
   "cell_type": "markdown",
   "metadata": {
    "slideshow": {
     "slide_type": "slide"
    }
   },
   "source": [
    "As expected, this is a **VERY** sparse matrices: only 886 out of 21970650625 elements are nonzero ($0.00000403\\%$).  \n",
    "We can now get all non-zero elements in the transition matrix and represent them with their states:"
   ]
  },
  {
   "cell_type": "code",
   "execution_count": null,
   "metadata": {
    "collapsed": true,
    "slideshow": {
     "slide_type": "fragment"
    }
   },
   "outputs": [],
   "source": [
    "# get coordinates of non-zero elements in transition matrix\n",
    "non_zero_indices = list(zip(*mc.transition_matrix.nonzero()))\n",
    "state_lookup = mc.possible_states_lookup()\n",
    "state_transitions = [(state_lookup.get(i), state_lookup.get(j)) for i, j in non_zero_indices]\n",
    "possible_start_states = set(i for i, _ in state_transitions if i[0] < 288)"
   ]
  },
  {
   "cell_type": "markdown",
   "metadata": {},
   "source": [
    "## Visualise the future\n",
    "Now we have all the necessary building blocks to build a small dashboard to let us peek into the future.  \n",
    "We'll be using `networkx` to generate a time graph of the state evolution."
   ]
  },
  {
   "cell_type": "code",
   "execution_count": null,
   "metadata": {
    "slideshow": {
     "slide_type": "slide"
    }
   },
   "outputs": [],
   "source": [
    "@interact(\n",
    "    initial_state=map(str, sorted(possible_start_states)),\n",
    "    steps=IntSlider(1, 1, 5),\n",
    "    threshold=IntSlider(0, 0, 100, 5),\n",
    "    actual_weight=True\n",
    ")\n",
    "def draw_future(initial_state, steps, threshold, actual_weight):\n",
    "    \n",
    "    if not actual_weight:\n",
    "        print(\"Using relative weight\")\n",
    "        \n",
    "    state_index = (mc.possible_states.get(eval(initial_state)))\n",
    "    state_representation = np.zeros(len(mc.possible_states))\n",
    "    state_representation[state_index] = 1\n",
    "    \n",
    "    try:\n",
    "        states = mc.evolve_states(state_representation, num_steps=steps, threshold=threshold*0.01)\n",
    "    except TypeError as exc:  # no states above threshold\n",
    "        print(\"No states above current threshold\")\n",
    "    else:\n",
    "        pos = build_pos(states)  \n",
    "        G = mc.generate_graph(states, actual=actual_weight)\n",
    "        edge_labels = reset_edge_labels(G)\n",
    "        labels = build_node_labels(G, state_lookup)\n",
    "\n",
    "        nx.draw_networkx_edge_labels(G, pos, font_size=15, font_weight=\"bold\", edge_labels=edge_labels, alpha=0.7)\n",
    "        nx.draw_networkx(\n",
    "            G,\n",
    "            pos,\n",
    "            width=[attr[\"weight\"] * 5  for i, j, attr in G.edges(data=True)],\n",
    "            edge_color=[attr[\"weight\"] * 5 + 1  for i, j, attr in G.edges(data=True)],\n",
    "            edge_cmap=optum_cmap_simple\n",
    "        )\n",
    "        label_offset = max([abs(i[1]) for i in pos.values()] + [0.05])\n",
    "        nx.draw_networkx_labels(\n",
    "            G,\n",
    "            {k: (v[0], v[1] + 0.05 * label_offset) for k, v in pos.items()},\n",
    "            labels,\n",
    "            font_weight=\"bold\",\n",
    "            font_size=15\n",
    "        )\n",
    "        plt.axis(\"off\")\n",
    "        plt.show()\n",
    "        \n",
    "        # 51, 361\n",
    "        # 58, 361\n",
    "        # 65, 361  **\n",
    "        # 76, 372\n",
    "        # 216, 361\n",
    "        # 261, 361"
   ]
  },
  {
   "cell_type": "markdown",
   "metadata": {
    "collapsed": true
   },
   "source": [
    "And there we go...\n",
    "\n",
    "<img src=\"../presentation/imgs/excited.jpg\" style=\"width:700px;height:500px\">\n",
    "<br>\n"
   ]
  }
 ],
 "metadata": {
  "celltoolbar": "Raw Cell Format",
  "kernelspec": {
   "display_name": "Python 3",
   "language": "python",
   "name": "python3"
  },
  "language_info": {
   "codemirror_mode": {
    "name": "ipython",
    "version": 3
   },
   "file_extension": ".py",
   "mimetype": "text/x-python",
   "name": "python",
   "nbconvert_exporter": "python",
   "pygments_lexer": "ipython3",
   "version": "3.6.1"
  }
 },
 "nbformat": 4,
 "nbformat_minor": 2
}
