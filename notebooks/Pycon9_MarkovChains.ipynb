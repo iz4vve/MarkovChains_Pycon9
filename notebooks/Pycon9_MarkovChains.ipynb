{
 "cells": [
  {
   "cell_type": "markdown",
   "metadata": {
    "slideshow": {
     "slide_type": "slide"
    }
   },
   "source": [
    "# Predicting future states with Markov Chains\n",
    "We have a set of sequences followed by users in the system. We need to implement a Markov Chain representation that we can use to obtain predictions on future states. Also we want this representation to be of order $>1$.  \n",
    "Let's start by loading the data and by having a look at it."
   ]
  },
  {
   "cell_type": "code",
   "execution_count": 1,
   "metadata": {
    "slideshow": {
     "slide_type": "slide"
    }
   },
   "outputs": [
    {
     "data": {
      "text/html": [
       "<div>\n",
       "<style scoped>\n",
       "    .dataframe tbody tr th:only-of-type {\n",
       "        vertical-align: middle;\n",
       "    }\n",
       "\n",
       "    .dataframe tbody tr th {\n",
       "        vertical-align: top;\n",
       "    }\n",
       "\n",
       "    .dataframe thead th {\n",
       "        text-align: right;\n",
       "    }\n",
       "</style>\n",
       "<table border=\"1\" class=\"dataframe\">\n",
       "  <thead>\n",
       "    <tr style=\"text-align: right;\">\n",
       "      <th></th>\n",
       "      <th>element</th>\n",
       "      <th>exit_codes</th>\n",
       "      <th>type</th>\n",
       "    </tr>\n",
       "  </thead>\n",
       "  <tbody>\n",
       "    <tr>\n",
       "      <th>0</th>\n",
       "      <td>6114|421|2814|1478|2040|3563|3622|1850|1032|20...</td>\n",
       "      <td>489|397|397|397|218|580|465|397|218|397|397|77...</td>\n",
       "      <td>0.0</td>\n",
       "    </tr>\n",
       "    <tr>\n",
       "      <th>1</th>\n",
       "      <td>6114|421|2814|1478|2040|3563|3622|1850|1032|20...</td>\n",
       "      <td>489|397|397|397|218|580|465|397|218|397|397|77...</td>\n",
       "      <td>2.0</td>\n",
       "    </tr>\n",
       "    <tr>\n",
       "      <th>2</th>\n",
       "      <td>6114|421|2814|1478|2040|3563|3622|1850|1032|20...</td>\n",
       "      <td>489|397|397|397|218|580|465|397|218|397|397|77...</td>\n",
       "      <td>2.0</td>\n",
       "    </tr>\n",
       "    <tr>\n",
       "      <th>3</th>\n",
       "      <td>6114|421|2814|1478|2040|3563|3622|1850|1032|20...</td>\n",
       "      <td>489|397|397|397|218|580|465|397|218|397|397|77...</td>\n",
       "      <td>2.0</td>\n",
       "    </tr>\n",
       "    <tr>\n",
       "      <th>4</th>\n",
       "      <td>6114|421|2814|1478|2040|3563|3622|1850|1032|20...</td>\n",
       "      <td>489|397|397|397|218|580|465|397|218|397|397|77...</td>\n",
       "      <td>2.0</td>\n",
       "    </tr>\n",
       "  </tbody>\n",
       "</table>\n",
       "</div>"
      ],
      "text/plain": [
       "                                             element  \\\n",
       "0  6114|421|2814|1478|2040|3563|3622|1850|1032|20...   \n",
       "1  6114|421|2814|1478|2040|3563|3622|1850|1032|20...   \n",
       "2  6114|421|2814|1478|2040|3563|3622|1850|1032|20...   \n",
       "3  6114|421|2814|1478|2040|3563|3622|1850|1032|20...   \n",
       "4  6114|421|2814|1478|2040|3563|3622|1850|1032|20...   \n",
       "\n",
       "                                          exit_codes  type  \n",
       "0  489|397|397|397|218|580|465|397|218|397|397|77...   0.0  \n",
       "1  489|397|397|397|218|580|465|397|218|397|397|77...   2.0  \n",
       "2  489|397|397|397|218|580|465|397|218|397|397|77...   2.0  \n",
       "3  489|397|397|397|218|580|465|397|218|397|397|77...   2.0  \n",
       "4  489|397|397|397|218|580|465|397|218|397|397|77...   2.0  "
      ]
     },
     "execution_count": 1,
     "metadata": {},
     "output_type": "execute_result"
    }
   ],
   "source": [
    "# load all dependencies\n",
    "from support import *\n",
    "# load the data\n",
    "data = pd.read_csv(\"../data/paths_final_cass.csv\", sep=\";\")[[\"element\", \"exit_codes\", \"type\"]]\n",
    "\n",
    "# let's peek into the dataframe...\n",
    "data.head()"
   ]
  },
  {
   "cell_type": "markdown",
   "metadata": {
    "slideshow": {
     "slide_type": "slide"
    }
   },
   "source": [
    "### Data format\n",
    "The data contain all sequence of items users touched in their session (`element`) and the exit status for each item (`exit_code`). `type` represents the goodness/badness of the sequence.  \n",
    "We now need to determine the set of all possible states that we can use to build a transition matrix based on the sequences in our dataset.  \n",
    "Since we are not sure all labels exist (there may be gaps in the labels), we will redefine them and normalize the counts.  \n",
    "\n",
    "Also: we want to calculate a second order Markov Chain of the dataset so that we can correlate a pair (Element, Exit code) to the next pair (Element, Exit code)."
   ]
  },
  {
   "cell_type": "code",
   "execution_count": 2,
   "metadata": {
    "slideshow": {
     "slide_type": "skip"
    }
   },
   "outputs": [
    {
     "name": "stdout",
     "output_type": "stream",
     "text": [
      "288 unique elements found in dataset\n",
      "97 unique exit_codes found in dataset\n",
      "\n",
      "385 possible states single states\n"
     ]
    }
   ],
   "source": [
    "# get ALL the elements (pipe separated)\n",
    "all_codes = set(itertools.chain(*data['element'].apply(lambda x: str(x).split(\"|\")).values))\n",
    "print(f\"{len(all_codes)} unique elements found in dataset\")\n",
    "# build a label map\n",
    "codes_map = {item: n for n, item in enumerate(sorted(map(int, all_codes)))}\n",
    "# get the new labels and joins them in a similar string\n",
    "data['new_elements'] = data['element'].apply(lambda x: \"|\".join(str(codes_map.get(int(i), 'N/A')) for i in str(x).split(\"|\")))\n",
    "\n",
    "# same thing on exit states\n",
    "all_codes = set(itertools.chain(*data['exit_codes'].apply(lambda x: str(x).split(\"|\")).values))\n",
    "print(f\"{len(all_codes)} unique exit_codes found in dataset\")\n",
    "_codes_map = {item: n for n, item in enumerate(sorted(map(int, all_codes)), start=len(codes_map))}\n",
    "data['new_exits'] = data['exit_codes'].apply(lambda x: \"|\".join(str(_codes_map.get(int(i), 'N/A')) for i in str(x).split(\"|\")))\n",
    "\n",
    "print(f\"\\n{max(_codes_map.values()) + 1} possible states single states\")"
   ]
  },
  {
   "cell_type": "code",
   "execution_count": 3,
   "metadata": {
    "slideshow": {
     "slide_type": "slide"
    }
   },
   "outputs": [
    {
     "data": {
      "text/html": [
       "<div>\n",
       "<style scoped>\n",
       "    .dataframe tbody tr th:only-of-type {\n",
       "        vertical-align: middle;\n",
       "    }\n",
       "\n",
       "    .dataframe tbody tr th {\n",
       "        vertical-align: top;\n",
       "    }\n",
       "\n",
       "    .dataframe thead th {\n",
       "        text-align: right;\n",
       "    }\n",
       "</style>\n",
       "<table border=\"1\" class=\"dataframe\">\n",
       "  <thead>\n",
       "    <tr style=\"text-align: right;\">\n",
       "      <th></th>\n",
       "      <th>type</th>\n",
       "      <th>new_elements</th>\n",
       "      <th>new_exits</th>\n",
       "    </tr>\n",
       "  </thead>\n",
       "  <tbody>\n",
       "    <tr>\n",
       "      <th>0</th>\n",
       "      <td>0.0</td>\n",
       "      <td>287|25|91|49|82|108|112|72|42|79|50|1|12|256|4...</td>\n",
       "      <td>371|361|361|361|325|384|366|361|325|361|361|30...</td>\n",
       "    </tr>\n",
       "    <tr>\n",
       "      <th>1</th>\n",
       "      <td>2.0</td>\n",
       "      <td>287|25|91|49|82|108|112|72|42|79|50|1|12|256|4...</td>\n",
       "      <td>371|361|361|361|325|384|366|361|325|361|361|30...</td>\n",
       "    </tr>\n",
       "    <tr>\n",
       "      <th>2</th>\n",
       "      <td>2.0</td>\n",
       "      <td>287|25|91|49|82|108|112|72|42|79|50|1|12|256|4...</td>\n",
       "      <td>371|361|361|361|325|384|366|361|325|361|361|30...</td>\n",
       "    </tr>\n",
       "    <tr>\n",
       "      <th>3</th>\n",
       "      <td>2.0</td>\n",
       "      <td>287|25|91|49|82|108|112|72|42|79|50|1|12|256|4...</td>\n",
       "      <td>371|361|361|361|325|384|366|361|325|361|361|30...</td>\n",
       "    </tr>\n",
       "    <tr>\n",
       "      <th>4</th>\n",
       "      <td>2.0</td>\n",
       "      <td>287|25|91|49|82|108|112|72|42|79|50|1|12|256|4...</td>\n",
       "      <td>371|361|361|361|325|384|366|361|325|361|361|30...</td>\n",
       "    </tr>\n",
       "  </tbody>\n",
       "</table>\n",
       "</div>"
      ],
      "text/plain": [
       "   type                                       new_elements  \\\n",
       "0   0.0  287|25|91|49|82|108|112|72|42|79|50|1|12|256|4...   \n",
       "1   2.0  287|25|91|49|82|108|112|72|42|79|50|1|12|256|4...   \n",
       "2   2.0  287|25|91|49|82|108|112|72|42|79|50|1|12|256|4...   \n",
       "3   2.0  287|25|91|49|82|108|112|72|42|79|50|1|12|256|4...   \n",
       "4   2.0  287|25|91|49|82|108|112|72|42|79|50|1|12|256|4...   \n",
       "\n",
       "                                           new_exits  \n",
       "0  371|361|361|361|325|384|366|361|325|361|361|30...  \n",
       "1  371|361|361|361|325|384|366|361|325|361|361|30...  \n",
       "2  371|361|361|361|325|384|366|361|325|361|361|30...  \n",
       "3  371|361|361|361|325|384|366|361|325|361|361|30...  \n",
       "4  371|361|361|361|325|384|366|361|325|361|361|30...  "
      ]
     },
     "execution_count": 3,
     "metadata": {},
     "output_type": "execute_result"
    }
   ],
   "source": [
    "data.drop([\"element\", \"exit_codes\"], axis=1, inplace=True)\n",
    "data.head()"
   ]
  },
  {
   "cell_type": "markdown",
   "metadata": {
    "slideshow": {
     "slide_type": "slide"
    }
   },
   "source": [
    "Let's now associate each element to its exit code in the sequence:"
   ]
  },
  {
   "cell_type": "code",
   "execution_count": 4,
   "metadata": {
    "collapsed": true,
    "slideshow": {
     "slide_type": "fragment"
    }
   },
   "outputs": [],
   "source": [
    "# this mixes and matches items and exit codes\n",
    "pair_sequences = make_sequences(data)"
   ]
  },
  {
   "cell_type": "markdown",
   "metadata": {
    "slideshow": {
     "slide_type": "slide"
    }
   },
   "source": [
    "### Implementation\n",
    "Luckily for us, someone took care of the implementation of an initial version of High Order MC.  \n",
    "The implementation uses sparse matrices to represent the (very) highly dimensional space that describes all possible states."
   ]
  },
  {
   "cell_type": "code",
   "execution_count": 5,
   "metadata": {
    "slideshow": {
     "slide_type": "fragment"
    }
   },
   "outputs": [],
   "source": [
    "# install the High Order Markov chains module\n",
    "# ! pip install --upgrade HOMarkov"
   ]
  },
  {
   "cell_type": "code",
   "execution_count": 6,
   "metadata": {
    "slideshow": {
     "slide_type": "slide"
    }
   },
   "outputs": [],
   "source": [
    "# from HOMarkov import markov\n",
    "import markov\n",
    "number_of_states = max(_codes_map.values()) + 1 # zero based :)\n",
    "mc = markov.MarkovChain(number_of_states, order=2)"
   ]
  },
  {
   "cell_type": "code",
   "execution_count": 7,
   "metadata": {
    "slideshow": {
     "slide_type": "fragment"
    }
   },
   "outputs": [
    {
     "name": "stdout",
     "output_type": "stream",
     "text": [
      "CPU times: user 216 ms, sys: 2.15 ms, total: 218 ms\n",
      "Wall time: 217 ms\n"
     ]
    }
   ],
   "source": [
    "%%time\n",
    "# this will take about 30 seconds for the big dataset...\n",
    "mc.fit(list(pair_sequences))"
   ]
  },
  {
   "cell_type": "code",
   "execution_count": 8,
   "metadata": {
    "slideshow": {
     "slide_type": "fragment"
    }
   },
   "outputs": [
    {
     "name": "stdout",
     "output_type": "stream",
     "text": [
      "Number of non-zero transitions: 886\n",
      "Number of total transitions: 148225\n"
     ]
    }
   ],
   "source": [
    "print(f\"Number of non-zero transitions: {mc.transition_matrix.count_nonzero()}\")\n",
    "print(f\"Number of total transitions: {mc.number_of_states ** 2}\")"
   ]
  },
  {
   "cell_type": "markdown",
   "metadata": {
    "slideshow": {
     "slide_type": "slide"
    }
   },
   "source": [
    "We can now get all non-zero elements in the transition matrix and represent them with their states:"
   ]
  },
  {
   "cell_type": "code",
   "execution_count": 9,
   "metadata": {
    "slideshow": {
     "slide_type": "fragment"
    }
   },
   "outputs": [
    {
     "data": {
      "text/plain": [
       "[((0, 361), (200, 323)),\n",
       " ((1, 295), (253, 361)),\n",
       " ((1, 302), (12, 356)),\n",
       " ((1, 302), (12, 369)),\n",
       " ((1, 302), (12, 373))]"
      ]
     },
     "execution_count": 9,
     "metadata": {},
     "output_type": "execute_result"
    }
   ],
   "source": [
    "# get coordinates of non-zero elements in transition matrix\n",
    "non_zero_indices = list(zip(*mc.transition_matrix.nonzero()))\n",
    "state_lookup = mc.possible_states_lookup()\n",
    "\n",
    "state_transitions = [(state_lookup.get(i), state_lookup.get(j)) for i, j in non_zero_indices]\n",
    "\n",
    "state_transitions[:5]"
   ]
  },
  {
   "cell_type": "code",
   "execution_count": 10,
   "metadata": {
    "slideshow": {
     "slide_type": "slide"
    }
   },
   "outputs": [
    {
     "name": "stderr",
     "output_type": "stream",
     "text": [
      "Widget Javascript not detected.  It may not be installed or enabled properly.\n"
     ]
    },
    {
     "data": {
      "application/vnd.jupyter.widget-view+json": {
       "model_id": "ec983ea151dc449e922e85e390712892"
      }
     },
     "metadata": {},
     "output_type": "display_data"
    }
   ],
   "source": [
    "import scipy.sparse as sparse\n",
    "\n",
    "possible_start_states = set(i for i, _ in state_transitions)\n",
    "\n",
    "@interact(\n",
    "    initial_state=map(str, sorted(possible_start_states)),\n",
    "    steps=IntSlider(1, 1, 4),\n",
    "    threshold=IntSlider(0, 5, 100),\n",
    "    actual_weight=True\n",
    ")\n",
    "def draw_future(initial_state, steps, threshold, actual_weight):\n",
    "    \n",
    "    if not actual_weight:\n",
    "        print(\"Using relative weight\")\n",
    "        \n",
    "    state_index = (mc.possible_states.get(eval(initial_state)))\n",
    "    state_representation = np.zeros(len(mc.possible_states))\n",
    "    state_representation[state_index] = 1\n",
    "    \n",
    "    try:\n",
    "        states = mc.evolve_states(state_representation, num_steps=steps, threshold=threshold*0.01)\n",
    "    except TypeError as exc:  # no states above threshold\n",
    "        print(\"No states above current threshold\")\n",
    "    else:\n",
    "        pos = dict()\n",
    "        edge_labels = dict()\n",
    "        for key, state in states.items():\n",
    "            for _state in state:\n",
    "                pos[_state[\"state_id\"]] = (key, -_state[\"state_id\"])\n",
    "                \n",
    "        G = mc.generate_graph(states, actual=actual_weight)\n",
    "\n",
    "        # removes alternative weight\n",
    "        for start, end, attr in G.edges(data=True):\n",
    "            G.remove_edge(start, end)\n",
    "            G.add_edge(start, end, weight=attr[\"weight\"])\n",
    "            edge_labels[(start, end)] = round(attr[\"weight\"], 3)\n",
    "        \n",
    "        # relabels states\n",
    "        labels = dict()\n",
    "        for node in G.nodes():\n",
    "            label = mc.possible_states_lookup().get(G.node[node][\"label\"])\n",
    "            labels[node] = label\n",
    "\n",
    "        nx.draw_networkx_edge_labels(G, pos, font_size=15, font_weight=\"bold\", edge_labels=edge_labels)\n",
    "        nx.draw_networkx(G, pos)\n",
    "        label_offset = max([abs(i[1]) for i in pos.values()])\n",
    "        nx.draw_networkx_labels(\n",
    "            G,\n",
    "            {k: (v[0], v[1] + 0.05 * label_offset) for k, v in pos.items()},\n",
    "            labels,\n",
    "            font_weight=\"bold\",\n",
    "            font_size=15\n",
    "        )\n",
    "        plt.axis(\"off\")\n",
    "        plt.show()\n"
   ]
  },
  {
   "cell_type": "code",
   "execution_count": null,
   "metadata": {
    "collapsed": true
   },
   "outputs": [],
   "source": []
  }
 ],
 "metadata": {
  "celltoolbar": "Slideshow",
  "kernelspec": {
   "display_name": "Python 3",
   "language": "python",
   "name": "python3"
  },
  "language_info": {
   "codemirror_mode": {
    "name": "ipython",
    "version": 3
   },
   "file_extension": ".py",
   "mimetype": "text/x-python",
   "name": "python",
   "nbconvert_exporter": "python",
   "pygments_lexer": "ipython3",
   "version": "3.6.1"
  }
 },
 "nbformat": 4,
 "nbformat_minor": 2
}
