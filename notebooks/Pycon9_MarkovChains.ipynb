{
 "cells": [
  {
   "cell_type": "markdown",
   "metadata": {
    "slideshow": {
     "slide_type": "slide"
    }
   },
   "source": [
    "# Predicting future states with Markov Chains\n",
    "We have a set of sequences. We want to use Markov Chains to obtain predictions on future states. Also we want this representation to be of order $>1$.  "
   ]
  },
  {
   "cell_type": "code",
   "execution_count": 15,
   "metadata": {
    "slideshow": {
     "slide_type": "skip"
    }
   },
   "outputs": [],
   "source": [
    "# load all dependencies\n",
    "from support import *\n",
    "# load the data\n",
    "data = pd.read_csv(\"../data/sequences.csv\", sep=\";\")[[\"element\", \"exit_codes\"]]"
   ]
  },
  {
   "cell_type": "code",
   "execution_count": 16,
   "metadata": {
    "slideshow": {
     "slide_type": "fragment"
    }
   },
   "outputs": [
    {
     "name": "stdout",
     "output_type": "stream",
     "text": [
      "Dataset loaded: 61 rows x 2 columns\n"
     ]
    },
    {
     "data": {
      "text/html": [
       "<div>\n",
       "<style scoped>\n",
       "    .dataframe tbody tr th:only-of-type {\n",
       "        vertical-align: middle;\n",
       "    }\n",
       "\n",
       "    .dataframe tbody tr th {\n",
       "        vertical-align: top;\n",
       "    }\n",
       "\n",
       "    .dataframe thead th {\n",
       "        text-align: right;\n",
       "    }\n",
       "</style>\n",
       "<table border=\"1\" class=\"dataframe\">\n",
       "  <thead>\n",
       "    <tr style=\"text-align: right;\">\n",
       "      <th></th>\n",
       "      <th>element</th>\n",
       "      <th>exit_codes</th>\n",
       "    </tr>\n",
       "  </thead>\n",
       "  <tbody>\n",
       "    <tr>\n",
       "      <th>0</th>\n",
       "      <td>6114|421|2814|1478|2040|3563|3622|1850|1032|20...</td>\n",
       "      <td>489|397|397|397|218|580|465|397|218|397|397|77...</td>\n",
       "    </tr>\n",
       "    <tr>\n",
       "      <th>1</th>\n",
       "      <td>6114|421|2814|1478|2040|3563|3622|1850|1032|20...</td>\n",
       "      <td>489|397|397|397|218|580|465|397|218|397|397|77...</td>\n",
       "    </tr>\n",
       "    <tr>\n",
       "      <th>2</th>\n",
       "      <td>6114|421|2814|1478|2040|3563|3622|1850|1032|20...</td>\n",
       "      <td>489|397|397|397|218|580|465|397|218|397|397|77...</td>\n",
       "    </tr>\n",
       "    <tr>\n",
       "      <th>3</th>\n",
       "      <td>6114|421|2814|1478|2040|3563|3622|1850|1032|20...</td>\n",
       "      <td>489|397|397|397|218|580|465|397|218|397|397|77...</td>\n",
       "    </tr>\n",
       "    <tr>\n",
       "      <th>4</th>\n",
       "      <td>6114|421|2814|1478|2040|3563|3622|1850|1032|20...</td>\n",
       "      <td>489|397|397|397|218|580|465|397|218|397|397|77...</td>\n",
       "    </tr>\n",
       "  </tbody>\n",
       "</table>\n",
       "</div>"
      ],
      "text/plain": [
       "                                             element  \\\n",
       "0  6114|421|2814|1478|2040|3563|3622|1850|1032|20...   \n",
       "1  6114|421|2814|1478|2040|3563|3622|1850|1032|20...   \n",
       "2  6114|421|2814|1478|2040|3563|3622|1850|1032|20...   \n",
       "3  6114|421|2814|1478|2040|3563|3622|1850|1032|20...   \n",
       "4  6114|421|2814|1478|2040|3563|3622|1850|1032|20...   \n",
       "\n",
       "                                          exit_codes  \n",
       "0  489|397|397|397|218|580|465|397|218|397|397|77...  \n",
       "1  489|397|397|397|218|580|465|397|218|397|397|77...  \n",
       "2  489|397|397|397|218|580|465|397|218|397|397|77...  \n",
       "3  489|397|397|397|218|580|465|397|218|397|397|77...  \n",
       "4  489|397|397|397|218|580|465|397|218|397|397|77...  "
      ]
     },
     "execution_count": 16,
     "metadata": {},
     "output_type": "execute_result"
    }
   ],
   "source": [
    "# load data\n",
    "print(f\"Dataset loaded: {data.shape[0]} rows x {data.shape[1]} columns\")\n",
    "# let's peek into the dataframe...\n",
    "data.head()"
   ]
  },
  {
   "cell_type": "markdown",
   "metadata": {
    "slideshow": {
     "slide_type": "slide"
    }
   },
   "source": [
    "### Data format\n",
    "Each record consists of two sequences (events and outcomes). We need to associate each event (`element`) to its outcome (`exit_code`)."
   ]
  },
  {
   "cell_type": "markdown",
   "metadata": {
    "slideshow": {
     "slide_type": "fragment"
    }
   },
   "source": [
    "We need to determine the set of ALL possible events and outcomes. To do so we'll generate a hash map to a numeric range.\n",
    "\n",
    "E.g.\n",
    "```python\n",
    "hashmap = {0: state0, 1: state1, 2: state2, ...}\n",
    "```\n",
    "for all states and outcomes. We sill end up with a dictionary of size `len(set(events)) + len(set(outcomes))`."
   ]
  },
  {
   "cell_type": "code",
   "execution_count": 17,
   "metadata": {
    "slideshow": {
     "slide_type": "skip"
    }
   },
   "outputs": [
    {
     "name": "stdout",
     "output_type": "stream",
     "text": [
      "288 unique elements found in dataset\n",
      "97 unique exit_codes found in dataset\n",
      "\n",
      "385 possible states single states\n"
     ]
    }
   ],
   "source": [
    "# get ALL the elements (pipe separated)\n",
    "all_codes = set(\n",
    "    itertools.chain(\n",
    "        *data['element'].apply(lambda x: str(x).split(\"|\")).values\n",
    "    )\n",
    ")\n",
    "print(f\"{len(all_codes)} unique elements found in dataset\")\n",
    "\n",
    "# build a label map\n",
    "# this generates a new hash map with the range of the unique labels as key\n",
    "codes_map = {\n",
    "    item: n for n, item in enumerate(\n",
    "        sorted(map(int, all_codes))\n",
    "    )\n",
    "}\n",
    "# get the new labels and joins them in a string like at the beginning\n",
    "data['new_elements'] = data['element'].apply(\n",
    "    lambda x: \"|\".join(\n",
    "        str(codes_map.get(int(i), 'N/A')) for i in str(x).split(\"|\")\n",
    "    )\n",
    ")\n",
    "\n",
    "# same thing on exit states\n",
    "all_codes = set(\n",
    "    itertools.chain(*data['exit_codes'].apply(lambda x: str(x).split(\"|\")).values)\n",
    ")\n",
    "print(f\"{len(all_codes)} unique exit_codes found in dataset\")\n",
    "_codes_map = {\n",
    "    item: n for n, item in enumerate(\n",
    "        sorted(map(int, all_codes)), start=len(codes_map)\n",
    "    )\n",
    "}\n",
    "data['new_exits'] = data['exit_codes'].apply(\n",
    "    lambda x: \"|\".join(\n",
    "        str(_codes_map.get(int(i), 'N/A')) for i in str(x).split(\"|\")\n",
    "    )\n",
    ")\n",
    "\n",
    "print(f\"\\n{max(_codes_map.values()) + 1} possible states single states\")"
   ]
  },
  {
   "cell_type": "code",
   "execution_count": 18,
   "metadata": {
    "slideshow": {
     "slide_type": "skip"
    }
   },
   "outputs": [
    {
     "data": {
      "text/html": [
       "<div>\n",
       "<style scoped>\n",
       "    .dataframe tbody tr th:only-of-type {\n",
       "        vertical-align: middle;\n",
       "    }\n",
       "\n",
       "    .dataframe tbody tr th {\n",
       "        vertical-align: top;\n",
       "    }\n",
       "\n",
       "    .dataframe thead th {\n",
       "        text-align: right;\n",
       "    }\n",
       "</style>\n",
       "<table border=\"1\" class=\"dataframe\">\n",
       "  <thead>\n",
       "    <tr style=\"text-align: right;\">\n",
       "      <th></th>\n",
       "      <th>new_elements</th>\n",
       "      <th>new_exits</th>\n",
       "    </tr>\n",
       "  </thead>\n",
       "  <tbody>\n",
       "    <tr>\n",
       "      <th>0</th>\n",
       "      <td>287|25|91|49|82|108|112|72|42|79|50|1|12|256|4...</td>\n",
       "      <td>371|361|361|361|325|384|366|361|325|361|361|30...</td>\n",
       "    </tr>\n",
       "    <tr>\n",
       "      <th>1</th>\n",
       "      <td>287|25|91|49|82|108|112|72|42|79|50|1|12|256|4...</td>\n",
       "      <td>371|361|361|361|325|384|366|361|325|361|361|30...</td>\n",
       "    </tr>\n",
       "    <tr>\n",
       "      <th>2</th>\n",
       "      <td>287|25|91|49|82|108|112|72|42|79|50|1|12|256|4...</td>\n",
       "      <td>371|361|361|361|325|384|366|361|325|361|361|30...</td>\n",
       "    </tr>\n",
       "    <tr>\n",
       "      <th>3</th>\n",
       "      <td>287|25|91|49|82|108|112|72|42|79|50|1|12|256|4...</td>\n",
       "      <td>371|361|361|361|325|384|366|361|325|361|361|30...</td>\n",
       "    </tr>\n",
       "    <tr>\n",
       "      <th>4</th>\n",
       "      <td>287|25|91|49|82|108|112|72|42|79|50|1|12|256|4...</td>\n",
       "      <td>371|361|361|361|325|384|366|361|325|361|361|30...</td>\n",
       "    </tr>\n",
       "  </tbody>\n",
       "</table>\n",
       "</div>"
      ],
      "text/plain": [
       "                                        new_elements  \\\n",
       "0  287|25|91|49|82|108|112|72|42|79|50|1|12|256|4...   \n",
       "1  287|25|91|49|82|108|112|72|42|79|50|1|12|256|4...   \n",
       "2  287|25|91|49|82|108|112|72|42|79|50|1|12|256|4...   \n",
       "3  287|25|91|49|82|108|112|72|42|79|50|1|12|256|4...   \n",
       "4  287|25|91|49|82|108|112|72|42|79|50|1|12|256|4...   \n",
       "\n",
       "                                           new_exits  \n",
       "0  371|361|361|361|325|384|366|361|325|361|361|30...  \n",
       "1  371|361|361|361|325|384|366|361|325|361|361|30...  \n",
       "2  371|361|361|361|325|384|366|361|325|361|361|30...  \n",
       "3  371|361|361|361|325|384|366|361|325|361|361|30...  \n",
       "4  371|361|361|361|325|384|366|361|325|361|361|30...  "
      ]
     },
     "execution_count": 18,
     "metadata": {},
     "output_type": "execute_result"
    }
   ],
   "source": [
    "# we don't need these anymore...\n",
    "data.drop([\"element\", \"exit_codes\"], axis=1, inplace=True)\n",
    "data.head()"
   ]
  },
  {
   "cell_type": "markdown",
   "metadata": {
    "slideshow": {
     "slide_type": "subslide"
    }
   },
   "source": [
    "Let's now associate each element to its exit code in the sequence..."
   ]
  },
  {
   "cell_type": "code",
   "execution_count": 19,
   "metadata": {
    "collapsed": true,
    "slideshow": {
     "slide_type": "fragment"
    }
   },
   "outputs": [],
   "source": [
    "# this mixes and matches items and exit codes:\n",
    "# a|b|c $ 1|2|3 => a|1|b|2|c|3\n",
    "pair_sequences = make_sequences(data)"
   ]
  },
  {
   "cell_type": "markdown",
   "metadata": {
    "slideshow": {
     "slide_type": "fragment"
    }
   },
   "source": [
    "Trust me... it works..."
   ]
  },
  {
   "cell_type": "markdown",
   "metadata": {
    "slideshow": {
     "slide_type": "slide"
    }
   },
   "source": [
    "## Let's do some coding!\n",
    "Since we are interested in the pairs (event, outcome), we'll use a $2^{nd}$ order MC to generate our model.  \n",
    "But first we need to implement the general MC."
   ]
  },
  {
   "cell_type": "markdown",
   "metadata": {
    "slideshow": {
     "slide_type": "slide"
    }
   },
   "source": [
    "## Implementation\n",
    "How can we implement the representation of these states into a Markov Chain?  \n",
    "\n",
    "First of all, we want an extensible object (it doesn't strictly **NEED** to be, but this will be helpful in keeping things tidy)."
   ]
  },
  {
   "cell_type": "markdown",
   "metadata": {
    "slideshow": {
     "slide_type": "fragment"
    }
   },
   "source": [
    "**CAVEAT**: I'm going to show the method implementation separately for clarity: they should ALL be in the class for it to work properly!!"
   ]
  },
  {
   "cell_type": "markdown",
   "metadata": {
    "slideshow": {
     "slide_type": "fragment"
    }
   },
   "source": [
    "**CAVEAT 2**: I'm omitting a lot of stuff from the code below and leaving a few imprecisions (error handling, logging, docstrings, transposing, ...) for clarity... I *DO NOT* advise you use this code directly: I'm pretty sure you'd run into some weird (and not weird) problems..."
   ]
  },
  {
   "cell_type": "markdown",
   "metadata": {
    "slideshow": {
     "slide_type": "slide"
    }
   },
   "source": [
    "### Let's implement the class\n",
    "\n",
    "Let's start simple...\n",
    "```python\n",
    "class MarkovChain(object):\n",
    "    pass\n",
    "```"
   ]
  },
  {
   "cell_type": "markdown",
   "metadata": {
    "slideshow": {
     "slide_type": "slide"
    }
   },
   "source": [
    "#### Initialisation\n",
    "\n",
    "ok... now we want to pre-allocate the transition matrix. To do it, we need to know the total number of states and the order of the MC.  \n",
    "So we need to set:\n",
    "1. order of the MC\n",
    "2. total number of states"
   ]
  },
  {
   "cell_type": "markdown",
   "metadata": {
    "slideshow": {
     "slide_type": "subslide"
    }
   },
   "source": [
    "```python\n",
    "    def __init__(self, n_states, order=1):\n",
    "        self.number_of_states = n_states\n",
    "        self.order = order\n",
    "        \n",
    "        # calculate all possible state combinations\n",
    "        self.possible_states = {\n",
    "            j: i for i, j in\n",
    "            enumerate(itertools.product(range(n_states), repeat=order))\n",
    "        }\n",
    "\n",
    "        # allocate transition matrix\n",
    "        self.transition_matrix = sparse.dok_matrix((\n",
    "            (len(self.possible_states), len(self.possible_states))\n",
    "        ), dtype=np.float64)\n",
    "```\n"
   ]
  },
  {
   "cell_type": "markdown",
   "metadata": {
    "slideshow": {
     "slide_type": "notes"
    }
   },
   "source": [
    "Good. At this point we have the initialisations and the objects we need to start working. We'll have to be careful when working with a lot of states or a very high order as the size of the representation of the transition matrix will grow as $O(n\\_states^2)$. This is actually only a big problem if we want to have dense representations... which we don't...\n"
   ]
  },
  {
   "cell_type": "markdown",
   "metadata": {
    "slideshow": {
     "slide_type": "slide"
    }
   },
   "source": [
    "#### Transition matrix update\n",
    "\n",
    "We now have a basic implementation of and initialisation of the `transition_matrix` and `possible_states`. The transition matrizx has all transitions initialised as zeros, we now need a way of updating its elements when we see a transition happen:"
   ]
  },
  {
   "cell_type": "markdown",
   "metadata": {
    "slideshow": {
     "slide_type": "subslide"
    }
   },
   "source": [
    "```python\n",
    "    def update_transition_matrix(self, states_sequence):\n",
    "\n",
    "        visited_states = [\n",
    "            states_sequence[i: i + self.order]\n",
    "            for i in range(len(states_sequence) - self.order + 1)\n",
    "        ]\n",
    "\n",
    "        for state_index, i in enumerate(visited_states):\n",
    "            self.transition_matrix[\n",
    "                self.possible_states[tuple(i)],\n",
    "                self.possible_states[tuple(visited_states[\n",
    "                    state_index + self.order\n",
    "                ])]\n",
    "            ] += 1\n",
    "```\n",
    "This function updates the transition matrix for a single sequence of states. Something is missing though..."
   ]
  },
  {
   "cell_type": "markdown",
   "metadata": {
    "slideshow": {
     "slide_type": "slide"
    }
   },
   "source": [
    "### Normalisation\n",
    "\n",
    "The transition matrix is a matrix of probabilities, therefore **each row MUST sum to 1**.  \n",
    "\n",
    "We need to implement this normalisation:"
   ]
  },
  {
   "cell_type": "markdown",
   "metadata": {
    "slideshow": {
     "slide_type": "fragment"
    }
   },
   "source": [
    "```python\n",
    "    def normalise_transitions(self):\n",
    "        self.transition_matrix = preprocessing.normalize(\n",
    "            self.transition_matrix, norm=\"l1\"\n",
    "        )\n",
    "```"
   ]
  },
  {
   "cell_type": "markdown",
   "metadata": {
    "slideshow": {
     "slide_type": "slide"
    }
   },
   "source": [
    "### Fitting sequences of sequences\n",
    "\n",
    "We now have most of the bits and pieces together: we can add a utility function to train the model on sequences of sequences (we don't want to explicitly call `update_transition_matrix`, do we? ;) ).\n",
    "\n",
    "```python\n",
    "\n",
    "    def fit(self, state_sequences):\n",
    "        for index, sequence in enumerate(state_sequences):\n",
    "            self.update_transition_matrix(sequence, normalize=False)\n",
    "        self.normalize_transitions()\n",
    "```\n",
    "\n",
    "ok... that was easy..."
   ]
  },
  {
   "cell_type": "markdown",
   "metadata": {
    "slideshow": {
     "slide_type": "slide"
    }
   },
   "source": [
    "#### Implementation of `predict_state`\n",
    "\n",
    "We can implement this easily: we just need to take the matrix power of T to the power of the number of steps we want. For a single step, we'll be using the raw transition matrix:"
   ]
  },
  {
   "cell_type": "markdown",
   "metadata": {
    "slideshow": {
     "slide_type": "fragment"
    }
   },
   "source": [
    "```python\n",
    "    def predict_state(self, current_state, num_steps=1):\n",
    "        _next_state = sparse.csr_matrix(current_state).dot(\n",
    "            np.power(self.transition_matrix, num_steps)\n",
    "        )\n",
    "\n",
    "        return _next_state\n",
    "```"
   ]
  },
  {
   "cell_type": "markdown",
   "metadata": {
    "slideshow": {
     "slide_type": "slide"
    }
   },
   "source": [
    "## Let's see it in action now!!\n",
    "Ok fine, we've seen what the implementation looks like, let's see what it can do now!  \n",
    "As mentioned, the implementation seeen above is not complete and it does not implement any form of error hanlding... Luckily for us, a more complete implementation exists!"
   ]
  },
  {
   "cell_type": "markdown",
   "metadata": {
    "collapsed": true,
    "slideshow": {
     "slide_type": "slide"
    }
   },
   "source": [
    "```bash\n",
    "# install the High Order Markov chains module\n",
    "$ pip install --upgrade HOMarkov\n",
    "```"
   ]
  },
  {
   "cell_type": "code",
   "execution_count": 20,
   "metadata": {
    "collapsed": true,
    "slideshow": {
     "slide_type": "skip"
    }
   },
   "outputs": [],
   "source": [
    "import markov"
   ]
  },
  {
   "cell_type": "code",
   "execution_count": 21,
   "metadata": {
    "collapsed": true,
    "slideshow": {
     "slide_type": "slide"
    }
   },
   "outputs": [],
   "source": [
    "number_of_states = max(_codes_map.values()) + 1 # zero based :)\n",
    "mc = markov.MarkovChain(number_of_states, order=2)"
   ]
  },
  {
   "cell_type": "code",
   "execution_count": 22,
   "metadata": {
    "slideshow": {
     "slide_type": "fragment"
    }
   },
   "outputs": [
    {
     "name": "stdout",
     "output_type": "stream",
     "text": [
      "CPU times: user 253 ms, sys: 3.4 ms, total: 257 ms\n",
      "Wall time: 255 ms\n"
     ]
    }
   ],
   "source": [
    "%%time\n",
    "# ~ 225 ms with small dataset (61), ~ 30s with big dataset (3.8K)\n",
    "mc.fit(list(pair_sequences))"
   ]
  },
  {
   "cell_type": "code",
   "execution_count": 23,
   "metadata": {
    "slideshow": {
     "slide_type": "slide"
    }
   },
   "outputs": [
    {
     "name": "stdout",
     "output_type": "stream",
     "text": [
      "Number of non-zero transitions: 886\n",
      "Number of total transitions: 21970650625\n",
      "Percentage of non-zero transitions: 0.000004%\n"
     ]
    }
   ],
   "source": [
    "print(f\"Number of non-zero transitions: {mc.transition_matrix.count_nonzero()}\")\n",
    "print(f\"Number of total transitions: {mc.transition_matrix.shape[0]**2}\")\n",
    "print(f\"Percentage of non-zero transitions: {mc.transition_matrix.count_nonzero() / mc.transition_matrix.shape[0]**2:%}\")"
   ]
  },
  {
   "cell_type": "markdown",
   "metadata": {
    "slideshow": {
     "slide_type": "skip"
    }
   },
   "source": [
    "As expected, this is a **VERY** sparse matrix!!  \n",
    "We can now get all non-zero elements in the transition matrix and represent them with their states:"
   ]
  },
  {
   "cell_type": "markdown",
   "metadata": {
    "slideshow": {
     "slide_type": "slide"
    }
   },
   "source": [
    "## Visualise the future\n",
    "Now we have all the necessary building blocks to build a small dashboard to let us peek into the future.  \n",
    "We'll be using `networkx` to generate a time graph of the state evolution."
   ]
  },
  {
   "cell_type": "code",
   "execution_count": 24,
   "metadata": {
    "collapsed": true,
    "slideshow": {
     "slide_type": "skip"
    }
   },
   "outputs": [],
   "source": [
    "# get coordinates of non-zero elements in transition matrix\n",
    "non_zero_indices = list(zip(*mc.transition_matrix.nonzero()))\n",
    "state_lookup = mc.possible_states_lookup()\n",
    "state_transitions = [(state_lookup.get(i), state_lookup.get(j)) for i, j in non_zero_indices]\n",
    "possible_start_states = set(i for i, _ in state_transitions if i[0] < 288)"
   ]
  },
  {
   "cell_type": "code",
   "execution_count": 25,
   "metadata": {
    "slideshow": {
     "slide_type": "skip"
    }
   },
   "outputs": [
    {
     "data": {
      "application/vnd.jupyter.widget-view+json": {
       "model_id": "f9fe1b6831a2408eb941f9f15afa88d1"
      }
     },
     "metadata": {},
     "output_type": "display_data"
    }
   ],
   "source": [
    "@interact(\n",
    "    initial_state=map(str, sorted(possible_start_states)),\n",
    "    steps=IntSlider(1, 1, 5),\n",
    "    threshold=IntSlider(0, 0, 100, 5),\n",
    "    actual_weight=True\n",
    ")\n",
    "def draw_future(initial_state, steps, threshold, actual_weight):\n",
    "    \n",
    "    if not actual_weight:\n",
    "        print(\"Using relative weight\")\n",
    "        \n",
    "    state_index = (mc.possible_states.get(eval(initial_state)))\n",
    "    state_representation = np.zeros(len(mc.possible_states))\n",
    "    state_representation[state_index] = 1\n",
    "    \n",
    "    try:\n",
    "        states = mc.evolve_states(state_representation, num_steps=steps, threshold=threshold*0.01)\n",
    "    except TypeError as exc:  # no states above threshold\n",
    "        print(\"No states above current threshold\")\n",
    "    else:\n",
    "        pos = build_pos(states)  \n",
    "        G = mc.generate_graph(states, actual=actual_weight)\n",
    "        edge_labels = reset_edge_labels(G)\n",
    "        labels = build_node_labels(G, state_lookup)\n",
    "\n",
    "        nx.draw_networkx_edge_labels(G, pos, font_size=15, font_weight=\"bold\", edge_labels=edge_labels, alpha=0.7)\n",
    "        nx.draw_networkx(\n",
    "            G,\n",
    "            pos,\n",
    "            width=[attr[\"weight\"] * 5  for i, j, attr in G.edges(data=True)],\n",
    "            edge_color=[attr[\"weight\"] * 5 + 1  for i, j, attr in G.edges(data=True)],\n",
    "            edge_cmap=optum_cmap_simple\n",
    "        )\n",
    "        label_offset = max([abs(i[1]) for i in pos.values()] + [0.05])\n",
    "        nx.draw_networkx_labels(\n",
    "            G,\n",
    "            {k: (v[0], v[1] + 0.05 * label_offset) for k, v in pos.items()},\n",
    "            labels,\n",
    "            font_weight=\"bold\",\n",
    "            font_size=15\n",
    "        )\n",
    "        plt.axis(\"off\")\n",
    "        plt.show()\n",
    "        \n",
    "        # 51, 361\n",
    "        # 58, 361\n",
    "        # 65, 361  **\n",
    "        # 76, 372\n",
    "        # 216, 361\n",
    "        # 261, 361"
   ]
  },
  {
   "cell_type": "markdown",
   "metadata": {
    "collapsed": true,
    "slideshow": {
     "slide_type": "subslide"
    }
   },
   "source": [
    "#### And there we go...\n",
    "<center>\n",
    "<img src=\"https://images.hellogiggles.com/uploads/2016/06/21071232/chris-pratt1.jpg\" style=\"width:580px;height:350px\">\n",
    "</center>\n"
   ]
  }
 ],
 "metadata": {
  "kernelspec": {
   "display_name": "Python 3",
   "language": "python",
   "name": "python3"
  },
  "language_info": {
   "codemirror_mode": {
    "name": "ipython",
    "version": 3
   },
   "file_extension": ".py",
   "mimetype": "text/x-python",
   "name": "python",
   "nbconvert_exporter": "python",
   "pygments_lexer": "ipython3",
   "version": "3.6.1"
  }
 },
 "nbformat": 4,
 "nbformat_minor": 2
}
